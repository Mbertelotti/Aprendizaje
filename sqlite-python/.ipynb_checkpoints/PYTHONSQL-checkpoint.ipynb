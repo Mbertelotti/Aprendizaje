{
 "cells": [
  {
   "cell_type": "code",
   "execution_count": 1,
   "id": "c1985d4d-861b-41a2-99e0-5c5e14f0536a",
   "metadata": {},
   "outputs": [],
   "source": [
    "import sqlite3\n",
    "import pandas as pd"
   ]
  },
  {
   "cell_type": "markdown",
   "id": "31bf3fc7-c580-4f9b-bb66-589ae97c30c7",
   "metadata": {
    "tags": []
   },
   "source": [
    "Creo una conexion y una tabla"
   ]
  },
  {
   "cell_type": "code",
   "execution_count": 2,
   "id": "9e2982ee-9853-4ccb-805a-665ad86dbde6",
   "metadata": {},
   "outputs": [],
   "source": [
    "conexion=sqlite3.connect(\"bd1.db\")\n"
   ]
  },
  {
   "cell_type": "code",
   "execution_count": 3,
   "id": "06204046-bb70-44e0-9140-3c69a997b5fc",
   "metadata": {},
   "outputs": [],
   "source": [
    "try:\n",
    "    conexion.execute(\"\"\"create table prueba (\n",
    "                                ID integer primary key autoincrement,\n",
    "                                descripcion text,\n",
    "                                precio real\n",
    "                        )\"\"\")\n",
    "except:\n",
    "    pass"
   ]
  },
  {
   "cell_type": "code",
   "execution_count": 4,
   "id": "f1f4ae73-aa8f-4b2c-afcd-536ee2df23c4",
   "metadata": {},
   "outputs": [],
   "source": []
  },
  {
   "cell_type": "code",
   "execution_count": 5,
   "id": "50969791-9b8b-4acd-a8e2-8d631edb7893",
   "metadata": {
    "tags": []
   },
   "outputs": [],
   "source": [
    "tabla=[[\"naranjas\", 23.50],[\"peras\", 34],[\"bananas\", 25]]\n",
    "for linea in tabla:\n",
    "    conexion.execute(\"insert into prueba(descripcion,precio) values (?,?)\", linea)\n",
    "conexion.commit()"
   ]
  },
  {
   "cell_type": "code",
   "execution_count": 6,
   "id": "94e6996d-42ac-4c70-a03c-c60be691bbb4",
   "metadata": {},
   "outputs": [
    {
     "data": {
      "text/html": [
       "<div>\n",
       "<style scoped>\n",
       "    .dataframe tbody tr th:only-of-type {\n",
       "        vertical-align: middle;\n",
       "    }\n",
       "\n",
       "    .dataframe tbody tr th {\n",
       "        vertical-align: top;\n",
       "    }\n",
       "\n",
       "    .dataframe thead th {\n",
       "        text-align: right;\n",
       "    }\n",
       "</style>\n",
       "<table border=\"1\" class=\"dataframe\">\n",
       "  <thead>\n",
       "    <tr style=\"text-align: right;\">\n",
       "      <th></th>\n",
       "      <th>ID</th>\n",
       "      <th>descripcion</th>\n",
       "      <th>precio</th>\n",
       "    </tr>\n",
       "  </thead>\n",
       "  <tbody>\n",
       "  </tbody>\n",
       "</table>\n",
       "</div>"
      ],
      "text/plain": [
       "Empty DataFrame\n",
       "Columns: [ID, descripcion, precio]\n",
       "Index: []"
      ]
     },
     "execution_count": 6,
     "metadata": {},
     "output_type": "execute_result"
    }
   ],
   "source": [
    "df = pd.read_sql_query(\"SELECT * FROM prueba\", conexion)\n",
    "df"
   ]
  },
  {
   "cell_type": "code",
   "execution_count": 7,
   "id": "59006948-48d2-4716-b26f-a2a1caf92073",
   "metadata": {},
   "outputs": [],
   "source": [
    "conexion.close()"
   ]
  }
 ],
 "metadata": {
  "kernelspec": {
   "display_name": "Python 3 (ipykernel)",
   "language": "python",
   "name": "python3"
  },
  "language_info": {
   "codemirror_mode": {
    "name": "ipython",
    "version": 3
   },
   "file_extension": ".py",
   "mimetype": "text/x-python",
   "name": "python",
   "nbconvert_exporter": "python",
   "pygments_lexer": "ipython3",
   "version": "3.9.7"
  }
 },
 "nbformat": 4,
 "nbformat_minor": 5
}
